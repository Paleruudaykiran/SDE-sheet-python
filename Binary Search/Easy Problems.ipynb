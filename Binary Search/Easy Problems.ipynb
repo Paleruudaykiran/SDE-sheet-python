{
 "cells": [
  {
   "cell_type": "markdown",
   "metadata": {},
   "source": [
    "#### Square root"
   ]
  },
  {
   "cell_type": "code",
   "execution_count": 1,
   "metadata": {},
   "outputs": [],
   "source": [
    "def binarysearch(l,r,n) :\n",
    "        ans = 0\n",
    "        while l <= r :\n",
    "            m = l + (r - l)//2 \n",
    "            if m**2 == n :\n",
    "                return m \n",
    "            elif m**2 < n :\n",
    "                ans = m \n",
    "                l = m + 1\n",
    "            else :\n",
    "                r = m - 1\n",
    "        return ans\n",
    "def mySqrt(x):\n",
    "       return binarysearch(1,x,x)"
   ]
  },
  {
   "cell_type": "markdown",
   "metadata": {},
   "source": [
    "#### Start and End index of a number"
   ]
  },
  {
   "cell_type": "code",
   "execution_count": 4,
   "metadata": {},
   "outputs": [],
   "source": [
    "def binarySearch(nums,l,r,f,t) :\n",
    "        ans = -1\n",
    "        while l <= r :\n",
    "            m = l + (r - l)//2 \n",
    "            if nums[m] == t :\n",
    "                ans = m \n",
    "                if f :\n",
    "                    r = m - 1\n",
    "                else :\n",
    "                    l = m + 1\n",
    "            elif nums[m] < t :\n",
    "                l = m + 1\n",
    "            else : \n",
    "                r = m - 1\n",
    "        return ans\n",
    "def searchRange(nums, target) :\n",
    "        ans = [-1,-1] \n",
    "        ans[0] = binarySearch(nums,0,len(nums)-1,1,target)\n",
    "        ans[1] = binarySearch(nums,0,len(nums)-1,0,target) \n",
    "        return ans"
   ]
  },
  {
   "cell_type": "markdown",
   "metadata": {},
   "source": [
    "#### Find element that appears exactly once"
   ]
  },
  {
   "cell_type": "code",
   "execution_count": 5,
   "metadata": {},
   "outputs": [],
   "source": [
    "def binarySearch(l,r,nums) :\n",
    "        r -= 1\n",
    "        while l <= r :\n",
    "            m = l + (r - l)//2 \n",
    "            if m % 2 == 0 :\n",
    "                # checking if in right part\n",
    "                if nums[m] != nums[m+1] :\n",
    "                    # shrinking right part\n",
    "                    r = m - 1\n",
    "                else :\n",
    "                    # shrinking left part\n",
    "                    l = m + 1\n",
    "            else :\n",
    "                # checking if in right part\n",
    "                if nums[m] == nums[m+1] :\n",
    "                    r = m - 1\n",
    "                else :\n",
    "                    l = m + 1\n",
    "\n",
    "        return nums[l]\n",
    "\n",
    "def singleNonDuplicate(nums):\n",
    "        return binarySearch(0,len(nums)-1,nums)"
   ]
  },
  {
   "cell_type": "markdown",
   "metadata": {},
   "source": [
    "#### Search in rotated array"
   ]
  },
  {
   "cell_type": "code",
   "execution_count": 6,
   "metadata": {},
   "outputs": [],
   "source": [
    "def findPivot(l,r,nums):\n",
    "        while l < r :\n",
    "            m = l + (r - l)//2 \n",
    "            if m < r and nums[m] > nums[m+1] :\n",
    "                return m\n",
    "            if m > l and nums[m] < nums[m-1] :\n",
    "                return m\n",
    "            # checking if in left half \n",
    "            if nums[m] > nums[0] :\n",
    "                l = m + 1\n",
    "            #checking if in right half \n",
    "            if nums[m] < nums[0] :\n",
    "                r = m - 1\n",
    "        return l\n",
    "def binarySearch(l,r,nums,t) :\n",
    "        while l <= r :\n",
    "            m = l + (r - l)//2 \n",
    "            if nums[m] == t :\n",
    "                return m\n",
    "            elif nums[m] < t : \n",
    "                l = m + 1\n",
    "            else :\n",
    "                r = m - 1\n",
    "        return -1\n",
    "def search( nums, target) :\n",
    "        pivot = findPivot(0,len(nums)-1,nums)\n",
    "        if nums[pivot] == target: \n",
    "            return pivot\n",
    "        elif target >= nums[0]:\n",
    "            return binarySearch(0,pivot-1,nums,target) \n",
    "        else :\n",
    "            return binarySearch(pivot+1,len(nums)-1,nums,target)\n",
    "        "
   ]
  },
  {
   "cell_type": "markdown",
   "metadata": {},
   "source": [
    "#### Search in rotated array with duplicates"
   ]
  },
  {
   "cell_type": "code",
   "execution_count": null,
   "metadata": {},
   "outputs": [],
   "source": []
  },
  {
   "cell_type": "markdown",
   "metadata": {},
   "source": [
    "#### Find minimum in rotated array"
   ]
  },
  {
   "cell_type": "code",
   "execution_count": 7,
   "metadata": {},
   "outputs": [],
   "source": [
    " def findPivot(l,r,nums):\n",
    "        while l < r :\n",
    "            m = l + (r - l)//2 \n",
    "            if m < r and nums[m] > nums[m+1] :\n",
    "                return m\n",
    "            if m > l and nums[m] < nums[m-1] :\n",
    "                return m-1\n",
    "            # checking if in left half \n",
    "            if nums[m] >= nums[0] :\n",
    "                l = m + 1\n",
    "            #checking if in right half \n",
    "            if nums[m] < nums[0] :\n",
    "                r = m - 1\n",
    "        return l\n",
    "def findMin(nums):\n",
    "        pivot = findPivot(0,len(nums)-1,nums) \n",
    "        if pivot < len(nums) - 1 :\n",
    "            return nums[pivot+1] \n",
    "        return nums[0]"
   ]
  },
  {
   "cell_type": "markdown",
   "metadata": {},
   "source": [
    "#### find Peak element "
   ]
  },
  {
   "cell_type": "code",
   "execution_count": 2,
   "metadata": {},
   "outputs": [],
   "source": [
    "def findPeakElement(nums):\n",
    "        l,r = 0,len(nums)-1\n",
    "        while l < r :\n",
    "            mid = l + (r - l)//2 \n",
    "            if nums[mid] > nums[mid+1] :\n",
    "                r = mid\n",
    "            else :\n",
    "                l = mid + 1\n",
    "        return l"
   ]
  },
  {
   "cell_type": "markdown",
   "metadata": {},
   "source": [
    "#### right interval"
   ]
  },
  {
   "cell_type": "code",
   "execution_count": 1,
   "metadata": {},
   "outputs": [],
   "source": [
    " def binarySearch(interval,intervals,d,arr) :\n",
    "        l,r = 0,len(intervals)-1\n",
    "        ans = -1\n",
    "        while l <= r :\n",
    "            m = l + (r - l)//2 \n",
    "            if arr[m][0] >= interval[1] :\n",
    "                ans = m\n",
    "                r = m - 1\n",
    "            else :\n",
    "                l = m + 1\n",
    "        if ans == -1 :\n",
    "            return -1\n",
    "        return d[tuple(arr[ans])]\n",
    "def findRightInterval(intervals):\n",
    "        d = {} \n",
    "        i = 0\n",
    "        indices = []\n",
    "        for interval in intervals :\n",
    "            d[tuple(interval)] = i\n",
    "            i += 1\n",
    "        arr = intervals[::]\n",
    "        arr = sorted(arr,key = lambda x : x[0]) \n",
    "        for interval in intervals :\n",
    "            idx = binarySearch(interval,intervals,d,arr)\n",
    "            indices.append(idx)\n",
    "        return indices"
   ]
  },
  {
   "cell_type": "markdown",
   "metadata": {},
   "source": [
    "#### Reach a Number"
   ]
  },
  {
   "cell_type": "code",
   "execution_count": null,
   "metadata": {},
   "outputs": [],
   "source": []
  },
  {
   "cell_type": "code",
   "execution_count": null,
   "metadata": {},
   "outputs": [],
   "source": []
  }
 ],
 "metadata": {
  "kernelspec": {
   "display_name": "Python 3",
   "language": "python",
   "name": "python3"
  },
  "language_info": {
   "codemirror_mode": {
    "name": "ipython",
    "version": 3
   },
   "file_extension": ".py",
   "mimetype": "text/x-python",
   "name": "python",
   "nbconvert_exporter": "python",
   "pygments_lexer": "ipython3",
   "version": "3.8.5"
  },
  "vscode": {
   "interpreter": {
    "hash": "5ae58900cfbb8c43ab3495913814b7cf26024f51651a94ce8bf64d6111688e8d"
   }
  }
 },
 "nbformat": 4,
 "nbformat_minor": 4
}
