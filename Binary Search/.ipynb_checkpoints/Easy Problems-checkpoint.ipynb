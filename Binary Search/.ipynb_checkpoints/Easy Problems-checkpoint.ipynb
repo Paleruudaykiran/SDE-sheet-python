{
 "cells": [
  {
   "cell_type": "markdown",
   "metadata": {},
   "source": [
    "#### Square root"
   ]
  },
  {
   "cell_type": "code",
   "execution_count": 1,
   "metadata": {},
   "outputs": [],
   "source": [
    "def binarysearch(l,r,n) :\n",
    "        ans = 0\n",
    "        while l <= r :\n",
    "            m = l + (r - l)//2 \n",
    "            if m**2 == n :\n",
    "                return m \n",
    "            elif m**2 < n :\n",
    "                ans = m \n",
    "                l = m + 1\n",
    "            else :\n",
    "                r = m - 1\n",
    "        return ans\n",
    "def mySqrt(x):\n",
    "       return binarysearch(1,x,x)"
   ]
  },
  {
   "cell_type": "markdown",
   "metadata": {},
   "source": [
    "#### Start and End index of a number"
   ]
  },
  {
   "cell_type": "code",
   "execution_count": 3,
   "metadata": {},
   "outputs": [
    {
     "ename": "IndentationError",
     "evalue": "unindent does not match any outer indentation level (<tokenize>, line 16)",
     "output_type": "error",
     "traceback": [
      "\u001b[1;36m  File \u001b[1;32m\"<tokenize>\"\u001b[1;36m, line \u001b[1;32m16\u001b[0m\n\u001b[1;33m    def searchRange(nums, target) :\u001b[0m\n\u001b[1;37m    ^\u001b[0m\n\u001b[1;31mIndentationError\u001b[0m\u001b[1;31m:\u001b[0m unindent does not match any outer indentation level\n"
     ]
    }
   ],
   "source": [
    "def binarySearch(nums,l,r,f,t) :\n",
    "        ans = -1\n",
    "        while l <= r :\n",
    "            m = l + (r - l)//2 \n",
    "            if nums[m] == t :\n",
    "                ans = m \n",
    "                if f :\n",
    "                    r = m - 1\n",
    "                else :\n",
    "                    l = m + 1\n",
    "            elif nums[m] < t :\n",
    "                l = m + 1\n",
    "            else : \n",
    "                r = m - 1\n",
    "        return ans\n",
    "def searchRange(nums, target) :\n",
    "        ans = [-1,-1] \n",
    "        ans[0] = binarySearch(nums,0,len(nums)-1,1,target)\n",
    "        ans[1] = binarySearch(nums,0,len(nums)-1,0,target) \n",
    "        return ans"
   ]
  },
  {
   "cell_type": "code",
   "execution_count": null,
   "metadata": {},
   "outputs": [],
   "source": []
  }
 ],
 "metadata": {
  "kernelspec": {
   "display_name": "Python 3",
   "language": "python",
   "name": "python3"
  },
  "language_info": {
   "codemirror_mode": {
    "name": "ipython",
    "version": 3
   },
   "file_extension": ".py",
   "mimetype": "text/x-python",
   "name": "python",
   "nbconvert_exporter": "python",
   "pygments_lexer": "ipython3",
   "version": "3.8.5"
  }
 },
 "nbformat": 4,
 "nbformat_minor": 4
}
