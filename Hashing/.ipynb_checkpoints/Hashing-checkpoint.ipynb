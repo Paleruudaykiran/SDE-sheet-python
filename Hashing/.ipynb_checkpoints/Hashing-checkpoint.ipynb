{
 "cells": [
  {
   "cell_type": "markdown",
   "metadata": {},
   "source": [
    "# Hashing"
   ]
  },
  {
   "cell_type": "raw",
   "metadata": {},
   "source": [
    "Hashing is a technique used for storing and retrieving of information as quickly as possible.\n",
    "Used for performing optimal searches."
   ]
  },
  {
   "cell_type": "markdown",
   "metadata": {},
   "source": [
    "###### Q. Given a string, find first repeated character in the string"
   ]
  },
  {
   "cell_type": "raw",
   "metadata": {},
   "source": [
    "input : abacbd\n",
    "output : a\n",
    "input : mcdcedf\n",
    "output : c"
   ]
  },
  {
   "cell_type": "raw",
   "metadata": {},
   "source": [
    "Approach 1 : \n",
    "Iterate over each character one by one and search its repetition in the rest of the string.\n",
    "TC : O(n^2)\n",
    "Sc : O(1) \n"
   ]
  },
  {
   "cell_type": "code",
   "execution_count": 3,
   "metadata": {},
   "outputs": [
    {
     "data": {
      "text/plain": [
       "'a'"
      ]
     },
     "execution_count": 3,
     "metadata": {},
     "output_type": "execute_result"
    }
   ],
   "source": [
    "def findFirstRep(s) :\n",
    "    n = len(s) \n",
    "    for i in range(n) :\n",
    "        for j in range(i+1,n) :\n",
    "            if s[i] == s[j] :\n",
    "                return s[i] \n",
    "    return \"\" \n",
    "findFirstRep(\"ababd\")"
   ]
  },
  {
   "cell_type": "raw",
   "metadata": {},
   "source": [
    "Approach 2(assuming that string consists of characters) : \n",
    "1. Take a array of size 256 initialized to 0\n",
    "2. Iterate over the string for each character check its frequency if it is 0 updates it to 1 otherwise return the character as it is first repeating character\n",
    "\n",
    "TC : O(n) \n",
    "SC : O(256) \n",
    "    "
   ]
  },
  {
   "cell_type": "code",
   "execution_count": 2,
   "metadata": {},
   "outputs": [
    {
     "data": {
      "text/plain": [
       "'c'"
      ]
     },
     "execution_count": 2,
     "metadata": {},
     "output_type": "execute_result"
    }
   ],
   "source": [
    "def findFirstRep2(s) :\n",
    "    a = [0]*256 \n",
    "    for ch in s :\n",
    "        asci = ord(ch) \n",
    "        if a[asci] == 1 :\n",
    "            return ch\n",
    "        else : \n",
    "            a[asci] = 1\n",
    "    return \"\"\n",
    "findFirstRep2(\"mcdcef\")"
   ]
  },
  {
   "cell_type": "raw",
   "metadata": {},
   "source": [
    "As the size of the array is not limited, at that times we need an approach which is nothing but hashing.\n",
    "The process of mapping the keys to some location is called hashing."
   ]
  },
  {
   "cell_type": "markdown",
   "metadata": {},
   "source": [
    "## components of hashing"
   ]
  },
  {
   "cell_type": "raw",
   "metadata": {},
   "source": [
    "1. Hash map / Hash table\n",
    "2. Hash function\n",
    "3. Collision\n",
    "4. Collision resolution"
   ]
  },
  {
   "cell_type": "markdown",
   "metadata": {},
   "source": [
    "### Hashmaps"
   ]
  },
  {
   "cell_type": "raw",
   "metadata": {},
   "source": [
    "Generalisation of arrays.\n",
    "DS that stores the key-value pairs.\n",
    "Uses hash function to map keys to their values.\n",
    "To store keys in memory we use hash function."
   ]
  },
  {
   "cell_type": "markdown",
   "metadata": {},
   "source": [
    "### Hash function"
   ]
  },
  {
   "cell_type": "raw",
   "metadata": {},
   "source": [
    "Transforms keys to index.\n",
    "How to make hash function?\n",
    "- efficient hash function should uniformly distribute the value\n",
    "- chances of collision should be very low"
   ]
  },
  {
   "cell_type": "markdown",
   "metadata": {},
   "source": [
    "### Collision "
   ]
  },
  {
   "cell_type": "raw",
   "metadata": {},
   "source": [
    "Each key should have unique value(index)"
   ]
  },
  {
   "cell_type": "markdown",
   "metadata": {},
   "source": [
    "### Collision resolution technique"
   ]
  },
  {
   "cell_type": "raw",
   "metadata": {},
   "source": [
    "Separate chaining\n",
    "open addressing\n",
    "Double hashing\n",
    "Linear probing"
   ]
  },
  {
   "cell_type": "markdown",
   "metadata": {},
   "source": [
    "1. Separate chaining : \n",
    "\n",
    "Collision resolution by chaining combines linked list representation with hashmap.\n",
    "When two or more records hash to the same location, these records are constituted into a singly linked list called a chain.\n",
    "\n",
    "ex: \n",
    "a[] = [50,700,76,85,92,73,101] \n",
    "hash function : key % 7"
   ]
  },
  {
   "attachments": {
    "hashChaining1.png": {
     "image/png": "[encoded data removed]"
    }
   },
   "cell_type": "markdown",
   "metadata": {},
   "source": [
    "![hashChaining1.png](attachment:hashChaining1.png)"
   ]
  },
  {
   "cell_type": "raw",
   "metadata": {},
   "source": [
    "load factor of a hashmap is the [no.of items in hashmap/size of hashmap]\n",
    "if load factor is > 1, we need to rehash the hash function"
   ]
  },
  {
   "cell_type": "markdown",
   "metadata": {},
   "source": [
    "### Implementation"
   ]
  },
  {
   "cell_type": "code",
   "execution_count": 13,
   "metadata": {},
   "outputs": [
    {
     "name": "stdout",
     "output_type": "stream",
     "text": [
      "[None, None, None, None, None, None, 7, 9, 45, None]\n",
      "9\n"
     ]
    }
   ],
   "source": [
    "class HashTable:\n",
    "    def __init__(self) :\n",
    "        self.MAX = 10\n",
    "        self.arr = [None for i in range(10)] \n",
    "        \n",
    "    #hash function\n",
    "    def get_hash(self,key) :\n",
    "        h = 0 \n",
    "        for ch in key :\n",
    "            h += ord(ch) \n",
    "        return h%10 \n",
    "    \n",
    "    #getKey\n",
    "    def __getitem__(self,key) :\n",
    "        h = self.get_hash(key) \n",
    "        return self.arr[h] \n",
    "    #setKey\n",
    "    def __setitem__(self,key,val) :\n",
    "        h = self.get_hash(key)\n",
    "        self.arr[h] = val\n",
    "    \n",
    "t = HashTable() \n",
    "t['virat kohli'] = 18\n",
    "t['rohit sharma'] = 45\n",
    "t['kl rahul'] = 1\n",
    "t['ms dhoni'] = 7\n",
    "t['jadeja'] = 9\n",
    "print(t.arr)\n",
    "print(t['virat kohli'])"
   ]
  },
  {
   "cell_type": "raw",
   "metadata": {},
   "source": [
    "The approach does not handle collisions. To avoid collions we can one above listed approaches.\n",
    "For instance we use separate chaining method explained as above."
   ]
  },
  {
   "cell_type": "code",
   "execution_count": 12,
   "metadata": {},
   "outputs": [
    {
     "name": "stdout",
     "output_type": "stream",
     "text": [
      "[[], [], [], [], [], [], [('ms dhoni', 7)], [('virat kohli', 18), ('kl rahul', 1), ('jadeja', 9)], [('rohit sharma', 45)], []]\n",
      "18\n"
     ]
    }
   ],
   "source": [
    "class HashTable:\n",
    "    def __init__(self) :\n",
    "        self.MAX = 10\n",
    "        self.arr = [[] for i in range(10)] \n",
    "        \n",
    "    #hash function\n",
    "    def get_hash(self,key) :\n",
    "        h = 0 \n",
    "        for ch in key :\n",
    "            h += ord(ch) \n",
    "        return h%10 \n",
    "    \n",
    "    #getKey\n",
    "    def __getitem__(self,key) :\n",
    "        h = self.get_hash(key) \n",
    "        for pair in self.arr[h] :\n",
    "            if pair[0] == key :\n",
    "                return pair[1]\n",
    "        return -1\n",
    "    #setKey\n",
    "    def __setitem__(self,key,val) :\n",
    "        h = self.get_hash(key)\n",
    "        found = False\n",
    "        for idx,ele in enumerate(self.arr[h]) :\n",
    "            if len(ele) == 0 and ele[0] == key :\n",
    "                self.arr[h][idx] = (key,val) \n",
    "                found = True\n",
    "                break\n",
    "        if not found :\n",
    "            self.arr[h].append((key,val))\n",
    "t = HashTable() \n",
    "t['virat kohli'] = 18\n",
    "t['rohit sharma'] = 45\n",
    "t['kl rahul'] = 1\n",
    "t['ms dhoni'] = 7\n",
    "t['jadeja'] = 9\n",
    "print(t.arr)\n",
    "print(t['virat kohli'])\n"
   ]
  },
  {
   "cell_type": "markdown",
   "metadata": {},
   "source": [
    "# Problems on hashing"
   ]
  },
  {
   "cell_type": "markdown",
   "metadata": {},
   "source": [
    "Q. Given a string, find maximum frequency charater\n"
   ]
  },
  {
   "cell_type": "code",
   "execution_count": 23,
   "metadata": {},
   "outputs": [
    {
     "name": "stdout",
     "output_type": "stream",
     "text": [
      "b\n"
     ]
    }
   ],
   "source": [
    "def max_freq(s) :\n",
    "    d = {} \n",
    "    for c in s :\n",
    "        if c not in d.keys() :\n",
    "            d[c] = 1\n",
    "        else :\n",
    "            d[c] += 1\n",
    "    maxi,ch = -1,\"\"\n",
    "    for k,v in d.items() :\n",
    "        if v > maxi :\n",
    "            ch = k\n",
    "            maxi = v\n",
    "    return ch\n",
    "print(max_freq('aabbbcdd'))"
   ]
  },
  {
   "cell_type": "raw",
   "metadata": {},
   "source": [
    "TC -> O(n)\n",
    "SC -> O(n)\n",
    "where n is length of the string"
   ]
  },
  {
   "cell_type": "markdown",
   "metadata": {},
   "source": [
    "Q. Given an array of integers, find longest consequetive sequence"
   ]
  },
  {
   "cell_type": "code",
   "execution_count": 29,
   "metadata": {},
   "outputs": [
    {
     "name": "stdout",
     "output_type": "stream",
     "text": [
      "4\n"
     ]
    }
   ],
   "source": [
    "def longest_consequetive_seq(arr) :\n",
    "    d = {} \n",
    "    # checking if the current element can be strat of the sequence\n",
    "    # if current element is n and if n-1 is in the list then n can't be start \n",
    "    # if n+1 is also in hashmap then n+1 can also be not the start\n",
    "    # d[n] = True if n is start otherwise false\n",
    "    for n in arr :\n",
    "        if n-1 in d.keys() :\n",
    "            d[n] = False \n",
    "        else :\n",
    "            d[n] = True \n",
    "        if n+1 in d.items() :\n",
    "            d[n+1] = False \n",
    "    possible_starts = [k for k,v in d.items() if v==True ]\n",
    "    ans = -1\n",
    "    for st in possible_starts :\n",
    "        ct = 1 \n",
    "        curr = st\n",
    "        while True :\n",
    "            curr += 1\n",
    "            if curr not in d.keys() :\n",
    "                break\n",
    "            ct += 1\n",
    "        ans = max(ans,ct)\n",
    "    \n",
    "    return ans\n",
    "            \n",
    "print(longest_consequetive_seq([1,2,3,4,22,23,7,8]))"
   ]
  },
  {
   "cell_type": "raw",
   "metadata": {},
   "source": [
    "TC -> O(n) \n",
    "SC -> O(n) \n",
    "where n is length of the array"
   ]
  },
  {
   "cell_type": "markdown",
   "metadata": {},
   "source": [
    "Q. Given two arrays, find intersection of these two arrays"
   ]
  },
  {
   "cell_type": "code",
   "execution_count": 33,
   "metadata": {},
   "outputs": [
    {
     "name": "stdout",
     "output_type": "stream",
     "text": [
      "[2, 3, 3]\n"
     ]
    }
   ],
   "source": [
    "def intersection(arr1,arr2) :\n",
    "    d = {} \n",
    "    lis = []\n",
    "    # will store the frequency of each element using hashmap\n",
    "    for x in arr1 :\n",
    "        if x in d.keys() :\n",
    "            d[x] += 1\n",
    "        else :\n",
    "            d[x] = 1\n",
    "    # will iterate over the second array and find if the element present in hashmap and its freq>0 \n",
    "    # if yes will add it to answer and reduce the freq by 1\n",
    "    for x in arr2 :\n",
    "        if x in d.keys() and d[x] > 0:\n",
    "            d[x] -= 1\n",
    "            lis.append(x) \n",
    "    return lis\n",
    "print(intersection([1,2,3,3,3],[2,2,3,3]))\n",
    "        "
   ]
  },
  {
   "cell_type": "raw",
   "metadata": {},
   "source": [
    "TC -> O(n) \n",
    "SC -> O(n) \n",
    "where n is length of the array"
   ]
  },
  {
   "cell_type": "code",
   "execution_count": null,
   "metadata": {},
   "outputs": [],
   "source": []
  }
 ],
 "metadata": {
  "kernelspec": {
   "display_name": "Python 3",
   "language": "python",
   "name": "python3"
  },
  "language_info": {
   "codemirror_mode": {
    "name": "ipython",
    "version": 3
   },
   "file_extension": ".py",
   "mimetype": "text/x-python",
   "name": "python",
   "nbconvert_exporter": "python",
   "pygments_lexer": "ipython3",
   "version": "3.8.5"
  }
 },
 "nbformat": 4,
 "nbformat_minor": 4
}
