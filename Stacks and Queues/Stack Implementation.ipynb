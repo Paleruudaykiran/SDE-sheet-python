{
 "cells": [
  {
   "cell_type": "markdown",
   "metadata": {},
   "source": [
    "### Array Implementation"
   ]
  },
  {
   "cell_type": "code",
   "execution_count": 5,
   "metadata": {},
   "outputs": [
    {
     "name": "stdout",
     "output_type": "stream",
     "text": [
      "3\n",
      "2\n"
     ]
    }
   ],
   "source": [
    "class Stack :\n",
    "    def __init__(self,capacity) :\n",
    "        self.capacity = capacity\n",
    "        self.size = 0 \n",
    "        self.array = [-1]*capacity \n",
    "    def push(self,data) :\n",
    "        if self.size == self.capacity - 1 :\n",
    "            print('stack-overflow')\n",
    "        else :\n",
    "            self.array[self.size] = data \n",
    "            self.size += 1\n",
    "    def pop(self) :\n",
    "        if self.size == 0 :\n",
    "            print('stack-underflow') \n",
    "        else :\n",
    "            self.size -= 1\n",
    "    def top(self) :\n",
    "        if self.size == 0 :\n",
    "            print('stack-underflow') \n",
    "        else :\n",
    "            return self.array[self.size-1]\n",
    "\n",
    "stk = Stack(10) \n",
    "stk.push(1)\n",
    "stk.push(2)\n",
    "stk.push(3)\n",
    "print(stk.top())\n",
    "stk.pop()\n",
    "print(stk.top())"
   ]
  },
  {
   "cell_type": "markdown",
   "metadata": {},
   "source": [
    "### LinkedList Implementation"
   ]
  },
  {
   "cell_type": "code",
   "execution_count": 7,
   "metadata": {},
   "outputs": [
    {
     "name": "stdout",
     "output_type": "stream",
     "text": [
      "3\n",
      "2\n"
     ]
    }
   ],
   "source": [
    "class Node:\n",
    "    def __init__(self,data=-1) :\n",
    "        self.data = data\n",
    "        self.next = None\n",
    "class StackLinkedList :\n",
    "    def __init__(self) :\n",
    "        self.head = None \n",
    "    def push(self,data) :\n",
    "        newNode = Node(data) \n",
    "        if self.head == None :\n",
    "            self.head = newNode\n",
    "        else :\n",
    "            newNode.next = self.head\n",
    "            self.head = newNode\n",
    "    def top(self) :\n",
    "        if self.head == None :\n",
    "            print('stack is empty') \n",
    "            return 0\n",
    "        return self.head.data\n",
    "    def pop(self) :\n",
    "        if self.head == None :\n",
    "            print('stack is empty') \n",
    "            return 0\n",
    "        self.head = self.head.next\n",
    "    \n",
    "stk = StackLinkedList() \n",
    "stk.push(1)\n",
    "stk.push(2)\n",
    "stk.push(3)\n",
    "print(stk.top())\n",
    "stk.pop()\n",
    "print(stk.top())      "
   ]
  },
  {
   "cell_type": "code",
   "execution_count": null,
   "metadata": {},
   "outputs": [],
   "source": []
  }
 ],
 "metadata": {
  "kernelspec": {
   "display_name": "Python 3",
   "language": "python",
   "name": "python3"
  },
  "language_info": {
   "codemirror_mode": {
    "name": "ipython",
    "version": 3
   },
   "file_extension": ".py",
   "mimetype": "text/x-python",
   "name": "python",
   "nbconvert_exporter": "python",
   "pygments_lexer": "ipython3",
   "version": "3.8.5"
  }
 },
 "nbformat": 4,
 "nbformat_minor": 4
}
