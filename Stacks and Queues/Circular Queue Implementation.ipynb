{
 "cells": [
  {
   "cell_type": "markdown",
   "metadata": {},
   "source": [
    "### Using arrays"
   ]
  },
  {
   "cell_type": "code",
   "execution_count": 11,
   "metadata": {},
   "outputs": [
    {
     "name": "stdout",
     "output_type": "stream",
     "text": [
      "[2, 5, inf]\n",
      "2\n",
      "[inf, 5, inf]\n",
      "[inf, 5, 7]\n",
      "[10, 5, 7]\n",
      "5\n",
      "[10, inf, 7]\n",
      "7\n",
      "10\n",
      "Queue is empty\n",
      "-1\n"
     ]
    }
   ],
   "source": [
    "class QueueArrays :\n",
    "    def __init__(self,capacity) :\n",
    "        self.capacity = capacity\n",
    "        self.array = [float('inf')]*self.capacity\n",
    "        self.front = -1\n",
    "        self.rear = -1\n",
    "    def push(self,data) :\n",
    "        if (self.rear + 1) % self.capacity == self.front:\n",
    "            print('Queue is Full')\n",
    "        elif self.front == -1 and self.rear == -1 :\n",
    "            self.front = self.rear = 0\n",
    "            self.array[self.rear] = data\n",
    "        else :\n",
    "            self.rear = (self.rear + 1)%self.capacity\n",
    "            self.array[self.rear] = data\n",
    "    def pop(self) :\n",
    "        if self.front == -1 :\n",
    "            print('Queue is empty') \n",
    "            return -1\n",
    "        data = self.array[self.front] \n",
    "        self.array[self.front] = float('inf')\n",
    "        if self.front == self.rear :\n",
    "            self.front = self.rear = -1 \n",
    "        else :\n",
    "            self.front = (self.front + 1)%self.capacity\n",
    "        return data\n",
    "        \n",
    "\n",
    "que = QueueArrays(3) \n",
    "que.push(2)\n",
    "que.push(5) \n",
    "print(que.array)\n",
    "print(que.pop()) \n",
    "print(que.array)\n",
    "que.push(7)\n",
    "print(que.array) \n",
    "que.push(10)\n",
    "print(que.array)\n",
    "print(que.pop())\n",
    "print(que.array)\n",
    "print(que.pop())\n",
    "print(que.pop())\n",
    "print(que.pop())"
   ]
  },
  {
   "cell_type": "markdown",
   "metadata": {},
   "source": [
    "### Using Linkedlist"
   ]
  },
  {
   "cell_type": "code",
   "execution_count": 14,
   "metadata": {},
   "outputs": [
    {
     "name": "stdout",
     "output_type": "stream",
     "text": [
      "10\n",
      "20\n",
      "Queue is empty\n",
      "-1\n"
     ]
    }
   ],
   "source": [
    "class Node :\n",
    "    def __init__(self,data) :\n",
    "        self.data = data \n",
    "        self.next = None\n",
    "class QueueLinkedList :\n",
    "    def __init__(self) :\n",
    "        self.front = self.rear = None\n",
    "    def push(self,data) :\n",
    "        newNode = Node(data) \n",
    "        if self.front == None :\n",
    "            self.front = self.rear = newNode\n",
    "        else :\n",
    "            self.rear.next = newNode \n",
    "            self.rear = newNode\n",
    "        self.rear.next = self.front\n",
    "    def pop(self) :\n",
    "        if self.front == None :\n",
    "            print('Queue is empty') \n",
    "            return -1\n",
    "        data = self.front.data \n",
    "        if self.front.next == self.front :\n",
    "            self.front = self.rear = None\n",
    "        else :\n",
    "            self.front = self.front.next \n",
    "            self.rear.next = self.front\n",
    "        return data\n",
    "\n",
    "q = QueueLinkedList() \n",
    "q.push(10) \n",
    "q.push(20) \n",
    "print(q.pop())\n",
    "print(q.pop())\n",
    "print(q.pop())\n",
    "        "
   ]
  },
  {
   "cell_type": "code",
   "execution_count": null,
   "metadata": {},
   "outputs": [],
   "source": []
  }
 ],
 "metadata": {
  "kernelspec": {
   "display_name": "Python 3",
   "language": "python",
   "name": "python3"
  },
  "language_info": {
   "codemirror_mode": {
    "name": "ipython",
    "version": 3
   },
   "file_extension": ".py",
   "mimetype": "text/x-python",
   "name": "python",
   "nbconvert_exporter": "python",
   "pygments_lexer": "ipython3",
   "version": "3.8.5"
  }
 },
 "nbformat": 4,
 "nbformat_minor": 4
}
