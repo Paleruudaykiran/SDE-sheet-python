{
 "cells": [
  {
   "cell_type": "raw",
   "metadata": {},
   "source": [
    "The number of possible characters is higher than 10 (256 in general) and the pattern length can be large. So the numeric values cannot be practically stored as an integer. Therefore, the numeric value is calculated using modular arithmetic to make sure that the hash values can be stored in an integer variable (can fit in memory words). To do rehashing, we need to take off the most significant digit and add the new least significant digit for in hash value. Rehashing is done using the following formula:\n",
    "\n",
    "hash( txt[s+1 .. s+m] ) = ( d ( hash( txt[s .. s+m-1]) – txt[s]*h ) + txt[s + m] ) mod q\n",
    "hash( txt[s .. s+m-1] ) : Hash value at shift s\n",
    "hash( txt[s+1 .. s+m] ) : Hash value at next shift (or shift s+1) \n",
    "d: Number of characters in the alphabet \n",
    "q: A prime number \n",
    "h: d^(m-1) % q"
   ]
  },
  {
   "cell_type": "code",
   "execution_count": 6,
   "metadata": {},
   "outputs": [
    {
     "name": "stdout",
     "output_type": "stream",
     "text": [
      "0\n",
      "6\n",
      "9\n"
     ]
    }
   ],
   "source": [
    "def robinkarp(text,pat) :\n",
    "    #since characters are 256 initialize d to 256\n",
    "    d = 256\n",
    "    q = 101 # random integer \n",
    "    m = len(pat) # length of pattern\n",
    "    n = len(text) # length of text\n",
    "    p = 0 # hash value of pattern\n",
    "    t = 0 # hash value of text\n",
    "    h = 1\n",
    "    \n",
    "    # calculate h -> d^(m-1) % q \n",
    "    for i in range(m-1) :\n",
    "        h = (h*d) % q \n",
    "        \n",
    "    # calculating hash value of the pattern \n",
    "    # and first window of the text\n",
    "    for i in range(m) :\n",
    "        p = (d*p + ord(pat[i])) % q\n",
    "        t = (d*t + ord(text[i])) % q\n",
    "    \n",
    "    # slide the pattern over the text window by window\n",
    "    for i in range(n-m+1) :\n",
    "        # check hash value of pattern and text\n",
    "        if p == t :\n",
    "            # comparing if window is same as pattern\n",
    "            for j in range(m) :\n",
    "                if text[i+j] != pat[j] :\n",
    "                    break \n",
    "            else:\n",
    "                print(i) \n",
    "        # calculating hash value of next window of the text\n",
    "        # remove the first character and add another character\n",
    "        \n",
    "        if i < n-m :\n",
    "            t = (d*(t-ord(text[i])*h) + ord(text[i+m])) % q \n",
    "            if t < 0 :\n",
    "                t = t + q \n",
    "        \n",
    "robinkarp(\"aababbaabaababca\",\"aaba\")"
   ]
  },
  {
   "cell_type": "raw",
   "metadata": {},
   "source": [
    "TC -> O(n-m+1) \n",
    "SC -> O(1)"
   ]
  }
 ],
 "metadata": {
  "kernelspec": {
   "display_name": "Python 3",
   "language": "python",
   "name": "python3"
  },
  "language_info": {
   "codemirror_mode": {
    "name": "ipython",
    "version": 3
   },
   "file_extension": ".py",
   "mimetype": "text/x-python",
   "name": "python",
   "nbconvert_exporter": "python",
   "pygments_lexer": "ipython3",
   "version": "3.8.5"
  }
 },
 "nbformat": 4,
 "nbformat_minor": 4
}
