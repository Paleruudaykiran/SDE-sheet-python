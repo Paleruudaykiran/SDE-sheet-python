{
 "cells": [
  {
   "cell_type": "raw",
   "metadata": {},
   "source": [
    "For the given pattern we calculate prefix function.\n",
    "proper prefix - prefix that is not equal to string itself\n",
    "longest prefix which is also suffix\n",
    "e.g : \n",
    "s  -> a b c a b c d\n",
    "lps : 0 0 0 1 2 3 0 \n",
    "    \n",
    "s  -> a a b a a a b\n",
    "lps : 0 1 0 1 2 2 3\n",
    "    \n",
    "s  -> a a b c a d a a b e\n",
    "lps : 0 1 0 0 1 0 1 2 3 0 "
   ]
  },
  {
   "cell_type": "raw",
   "metadata": {},
   "source": [
    "Steps:\n",
    "1. Calculate the prefix function of the pattern\n",
    "2. Then start matching\n",
    "pat -> a b c a b y\n",
    "lps -> 0 0 0 1 2 0 \n",
    "text -> a b x a b c a b c a b y"
   ]
  },
  {
   "cell_type": "code",
   "execution_count": null,
   "metadata": {},
   "outputs": [],
   "source": [
    "def computeLPSArray(pat,m,lps):\n",
    "    length,i=0,1\n",
    "    lps[0] = 0\n",
    "    while i < m :\n",
    "        if pat[i] == pat[length] :\n",
    "            lps[i] = length+1\n",
    "            length += 1\n",
    "            i += 1\n",
    "        else :\n",
    "            if length != 0 :\n",
    "                length = lps[length-1] \n",
    "            else :\n",
    "                lps[i] = 0\n",
    "                i += 1\n",
    "            \n",
    "def KMPSearch(pat,txt):\n",
    "    n = len(txt) \n",
    "    m = len(pat) \n",
    "    lps = [0]*m\n",
    "    computeLPSArray(pat,m,lps) \n",
    "    i,j = 0,0 \n",
    "    while i < n :\n",
    "        if txt[i] == pat[j] :\n",
    "            i += 1\n",
    "            j += 1\n",
    "        else :\n",
    "            if j == 0 :\n",
    "                i += 1\n",
    "            else :\n",
    "                j = lps[j-1] \n",
    "        if j == m :\n",
    "            print(i-j) \n",
    "            j = lps[j-1] \n",
    "    \n",
    "computeLPSArray(\"onio\",\"onionionspl\")"
   ]
  }
 ],
 "metadata": {
  "kernelspec": {
   "display_name": "Python 3",
   "language": "python",
   "name": "python3"
  },
  "language_info": {
   "codemirror_mode": {
    "name": "ipython",
    "version": 3
   },
   "file_extension": ".py",
   "mimetype": "text/x-python",
   "name": "python",
   "nbconvert_exporter": "python",
   "pygments_lexer": "ipython3",
   "version": "3.8.5"
  }
 },
 "nbformat": 4,
 "nbformat_minor": 4
}
