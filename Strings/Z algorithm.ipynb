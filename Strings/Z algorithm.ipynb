{
 "cells": [
  {
   "cell_type": "raw",
   "metadata": {},
   "source": [
    "The core of the algorithm is Z function\n",
    "Z(k) = longest substring starting at k which is also the prefix of the string\n",
    "\n",
    "s  ->  a a b x a a b x c a a b x a c b x a y\n",
    "z(k) = 0 1 0 0 4 1 0 0 0 8 1 0 0 1 0 0 0 1 0"
   ]
  },
  {
   "cell_type": "raw",
   "metadata": {},
   "source": [
    "Steps:\n",
    "1. Concatinate pattern and text saparated by character not in any of these strings\n",
    "e.g: text -> aabacba\n",
    "     pattern -> aab\n",
    "     s = pattern + '$' + text \n",
    "     s = aab$aabacba\n",
    "2. Calculate Z array of the newly concatinated string\n",
    "   s -> a a b $ a a b a c b a\n",
    "   Z -> 0 1 0 0 4 1 0 1 0 0 1\n",
    "3. Look for position where length of the pattern equals the value at that position\n",
    "4. Required index will be (index - length of the pattern + 1)"
   ]
  },
  {
   "cell_type": "raw",
   "metadata": {},
   "source": [
    "TC - > O(n + m) \n",
    "SC -> O(n + m)\n",
    "n -> length of text\n",
    "m -> length of pattern"
   ]
  },
  {
   "cell_type": "code",
   "execution_count": 7,
   "metadata": {},
   "outputs": [
    {
     "name": "stdout",
     "output_type": "stream",
     "text": [
      "[0, 1, 0, 1, 0, 4, 1, 0, 1, 0, 4, 1, 0, 1, 0]\n",
      "0\n",
      "5\n"
     ]
    }
   ],
   "source": [
    "def zalgo(text,pat) :\n",
    "    m = len(pat) \n",
    "    n = len(text)\n",
    "    zarr = [0 for i in range(n+m+2)] \n",
    "    s = pat + '$' + text \n",
    "    left = 0\n",
    "    right = 0 \n",
    "    zarr[0] = 0 \n",
    "    for k in range(len(zarr)) :\n",
    "        if k > right :\n",
    "            left = right = k \n",
    "            while right < len(s) and s[right] == s[right-left] :\n",
    "                right += 1\n",
    "            zarr[k] = right - left \n",
    "            right -= 1\n",
    "        else :\n",
    "            k1 = k -left \n",
    "            if zarr[k1] < right -k +1 :\n",
    "                zarr[k] = zarr[k1] \n",
    "            else :\n",
    "                left = k\n",
    "                while right < len(s) and s[right] == s[right-left] :\n",
    "                    right += 1\n",
    "                zarr[k] = right - left \n",
    "                right -= 1\n",
    "    print(zarr)\n",
    "    for i in range(len(zarr)) :\n",
    "        if zarr[i] == m :\n",
    "            print(i-m-1) \n",
    "    \n",
    "zalgo(\"aababaaba\",\"aaba\")"
   ]
  },
  {
   "cell_type": "code",
   "execution_count": null,
   "metadata": {},
   "outputs": [],
   "source": []
  }
 ],
 "metadata": {
  "kernelspec": {
   "display_name": "Python 3",
   "language": "python",
   "name": "python3"
  },
  "language_info": {
   "codemirror_mode": {
    "name": "ipython",
    "version": 3
   },
   "file_extension": ".py",
   "mimetype": "text/x-python",
   "name": "python",
   "nbconvert_exporter": "python",
   "pygments_lexer": "ipython3",
   "version": "3.8.5"
  }
 },
 "nbformat": 4,
 "nbformat_minor": 4
}
